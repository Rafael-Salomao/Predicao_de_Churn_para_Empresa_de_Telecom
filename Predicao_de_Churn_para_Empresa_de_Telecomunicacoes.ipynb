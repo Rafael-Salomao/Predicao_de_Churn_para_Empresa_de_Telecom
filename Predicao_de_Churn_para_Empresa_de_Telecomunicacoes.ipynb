{
  "nbformat": 4,
  "nbformat_minor": 0,
  "metadata": {
    "colab": {
      "provenance": [],
      "collapsed_sections": [
        "q_czXPz6qkE5",
        "sqDAEWyiqn0G"
      ],
      "include_colab_link": true
    },
    "kernelspec": {
      "name": "python3",
      "display_name": "Python 3"
    }
  },
  "cells": [
    {
      "cell_type": "markdown",
      "metadata": {
        "id": "view-in-github",
        "colab_type": "text"
      },
      "source": [
        "<a href=\"https://colab.research.google.com/github/Rafael-Salomao/Predicao_de_Churn_para_Empresa_de_Telecomunicacoes/blob/main/Predicao_de_Churn_para_Empresa_de_Telecomunicacoes.ipynb\" target=\"_parent\"><img src=\"https://colab.research.google.com/assets/colab-badge.svg\" alt=\"Open In Colab\"/></a>"
      ]
    },
    {
      "cell_type": "markdown",
      "source": [
        "# Predição de Churn para Empresa de Telecomunicações"
      ],
      "metadata": {
        "id": "dJRf_7fhfGDr"
      }
    },
    {
      "cell_type": "markdown",
      "source": [
        "## Entender o problema"
      ],
      "metadata": {
        "id": "iy_U3la8fNh-"
      }
    },
    {
      "cell_type": "markdown",
      "source": [
        "<p align=center>\n",
        "<img src=\"https://www.chargify.com/blog/wp-content/uploads/2019/06/churn_v2@2x.png\" width=\"80%\"></p>\n",
        "\n",
        "### O que é churn de clientes?\n",
        "\n",
        "O churn de clientes refere-se ao ciclo natural de negócios de perder e adquirir clientes. Toda empresa – não importa a qualidade de seus produtos ou atendimento ao cliente – experimenta churn. De um modo geral, quanto menos churn você tiver, mais clientes você manterá."
      ],
      "metadata": {
        "id": "q_czXPz6qkE5"
      }
    },
    {
      "cell_type": "markdown",
      "source": [
        "### O que é uma taxa de churn (churn rate)?\n",
        "A taxa de churn é a taxa na qual os clientes param de fazer negócios com uma empresa durante um determinado período de tempo. O churn, também pode se aplicar ao número de assinantes que cancelam ou não renovam uma assinatura. Quanto maior a sua taxa de churn, mais clientes param de comprar da sua empresa. Quanto menor a taxa de churn, mais clientes você retém. Normalmente, quanto menor sua taxa de churn, melhor."
      ],
      "metadata": {
        "id": "sqDAEWyiqn0G"
      }
    },
    {
      "cell_type": "markdown",
      "source": [
        "### Por que o churn de clientes é importante?\n",
        "Compreender a rotatividade de clientes é essencial para avaliar a eficácia de seus esforços de marketing e a satisfação geral de seus clientes. Também é mais fácil e barato manter os clientes que você já tem do que adquirir novos. Devido à popularidade dos modelos de negócios de assinatura, é fundamental que muitas empresas entendam onde, como e por que seus clientes podem estar mudando."
      ],
      "metadata": {
        "id": "M2q6Fc_dqrJp"
      }
    },
    {
      "cell_type": "markdown",
      "metadata": {
        "id": "IR56trFcPcC1"
      },
      "source": [
        "<p align=center>\n",
        "<img src=\"https://marketup.com/wp-content/uploads/2021/10/vazou-1.jpg\" width=\"80%\"></p>\n",
        "\n",
        "### Por que a taxa de churn é importante no setor de telecomunicações?\n",
        "\n",
        "Diante do exposto, o churn rate é uma medida fundamental a ser utilizada e monitorada para entender a saúde de uma empresa e, sobretudo, suas perspectivas futuras. No entanto, para as empresas de telecomunicações, uma análise completa da taxa de churn é importante, pois esse setor está entre os mais voláteis e, consequentemente, possui um alto nível de concorrência.\n",
        "\n",
        "Neste setor, os clientes tendem a mudar de operadora com muita frequência, seja para obter melhores condições de uso, seja para receber serviços tecnologicamente mais avançados que possam atender às expectativas do cliente, ou para encontrar uma melhor experiência do cliente. Seja como for, é fundamental reter clientes, até porque há poucos concorrentes e, portanto, uma pequena variação pode ter um impacto considerável nos segmentos de mercado que abrange.\n",
        "\n",
        "Isso é confirmado por um estudo Small Business Trends, que descobriu que 65% das vendas são de clientes existentes. Além disso, a probabilidade de vender para um cliente fiel é de 70%, enquanto a probabilidade de comprar de um cliente em potencial pela primeira vez fica dentro de uma faixa bastante estreita de 5% a 20%. Como se isso não bastasse, não se esqueça que são os consumidores mais fiéis que gastam mais em, também porque estão mais inclinados a experimentar novos produtos, proporcionando assim valiosas oportunidades de negócio crescimento.\n",
        "\n",
        "Diante de tudo isso, podemos dizer que um aumento descontrolado da taxa de churn se traduz em perda de lucro, que, se não controlada, pode se tornar substancial no longo prazo. Então, o projeto em questão tem o intuito de elaborar um modelo de predição de churn, para que seja possível entender melhor o comportamento dos clientes que ficam e que saem."
      ]
    },
    {
      "cell_type": "markdown",
      "metadata": {
        "id": "0HVmpIxQWT4Y"
      },
      "source": [
        "## Aquisição dos Dados\n",
        "\n",
        "Os dados utilizados neste projeto foram originalmente disponibilizados na [plataforma de ensino da IBM Developer](https://developer.ibm.com/), e tratam de um problema típico de uma companhia de telecomunicações. O dataset completo pode ser encontrado [neste link](https://raw.githubusercontent.com/carlosfab/dsnp2/master/datasets/WA_Fn-UseC_-Telco-Customer-Churn.csv).\n",
        "\n",
        "O dataset conta com mais de sete mil linhas e vinte e uma colunas.\n",
        "\n",
        "Sendo que, cada linha representa um cliente, cada coluna contém os atributos do cliente descritos na coluna Metadados.\n",
        "O conjunto de dados inclui informações sobre:\n",
        "- Clientes que saíram no último mês – a coluna é chamada de Churn\n",
        "- Serviços para os quais cada cliente se inscreveu – telefone, várias linhas, internet, segurança online, backup online, proteção de dispositivos, suporte técnico e streaming de TV e filmes\n",
        "- Informações da conta do cliente – há quanto tempo eles são clientes, contrato, forma de pagamento, cobrança sem papel, cobranças mensais e cobranças totais\n",
        "- Informações demográficas sobre os clientes – sexo, faixa etária e se eles têm parceiros e dependentes"
      ]
    },
    {
      "cell_type": "markdown",
      "source": [
        "### Obtenção dos dados"
      ],
      "metadata": {
        "id": "X9iKNeyzNwbU"
      }
    },
    {
      "cell_type": "code",
      "source": [
        "# instalar pacotes necessários\n",
        "!pip install scikit-plot -q\n",
        "!pip install imbalanced-learn -q"
      ],
      "metadata": {
        "id": "RfmsYZ1plsxT"
      },
      "execution_count": 1,
      "outputs": []
    },
    {
      "cell_type": "code",
      "metadata": {
        "id": "oQ4bNy7udtEE",
        "colab": {
          "base_uri": "https://localhost:8080/"
        },
        "outputId": "77c46139-46fa-4f39-c788-47cf438abc44"
      },
      "source": [
        "# importar os pacotes necessários\n",
        "import pandas as pd\n",
        "import numpy as np\n",
        "import matplotlib.pyplot as plt\n",
        "import seaborn as sns\n",
        "\n",
        "sns.color_palette(\"husl\")\n",
        "\n",
        "# importar os dados\n",
        "DATA_PATH = \"https://raw.githubusercontent.com/Rafael-Salomao/Predicao_de_Churn_para_Empresa_de_Telecomunicacoes/main/WA_Fn-UseC_-Telco-Customer-Churn.csv\"\n",
        "df = pd.read_csv(DATA_PATH)\n",
        "\n",
        "print('A dimensão do dataset total é: {}'.format(df.shape))"
      ],
      "execution_count": 17,
      "outputs": [
        {
          "output_type": "stream",
          "name": "stdout",
          "text": [
            "A dimensão do dataset total é: (7043, 22)\n"
          ]
        }
      ]
    },
    {
      "cell_type": "markdown",
      "source": [
        "##Explorar os dados\n",
        "\n",
        "\n"
      ],
      "metadata": {
        "id": "WxtWgFFrS2JY"
      }
    },
    {
      "cell_type": "markdown",
      "source": [
        "### Visualização dos dados\n",
        "A partir das primeiras visualizações, já é possível notar pontos relevantes para o projeto:\n",
        "\n",
        "- A coluna alvo se trata da coluna `churn`, em que:\n",
        "  - `0 = não churn`;\n",
        "  - `1 = churn`.\n",
        "\n",
        "- `customerID` é o ID de cada cliente. Se tratam de entradas individuais e, por isso, não será útil na construção do modelo de machine learning.\n",
        "\n",
        "- A grande maioria das variáveis são categóricas. Por conta disso, será necessário aprofundar as análises, para identificar quais tratamentos terão melhores desempenhos no modelo de machine learning que será estruturado."
      ],
      "metadata": {
        "id": "29eMDY7QQ5MO"
      }
    },
    {
      "cell_type": "code",
      "source": [
        "# ver as 5 primeiras entradas\n",
        "df.head()"
      ],
      "metadata": {
        "colab": {
          "base_uri": "https://localhost:8080/",
          "height": 387
        },
        "id": "dJpM5JANWyrT",
        "outputId": "d335e3c8-06a2-4672-a5d9-c6e6a45e1a56"
      },
      "execution_count": null,
      "outputs": [
        {
          "output_type": "execute_result",
          "data": {
            "text/plain": [
              "   customerID  gender  SeniorCitizen Partner Dependents  tenure PhoneService  \\\n",
              "0  7590-VHVEG  Female              0     Yes         No       1           No   \n",
              "1  5575-GNVDE    Male              0      No         No      34          Yes   \n",
              "2  3668-QPYBK    Male              0      No         No       2          Yes   \n",
              "3  7795-CFOCW    Male              0      No         No      45           No   \n",
              "4  9237-HQITU  Female              0      No         No       2          Yes   \n",
              "\n",
              "      MultipleLines InternetService OnlineSecurity  ... DeviceProtection  \\\n",
              "0  No phone service             DSL             No  ...               No   \n",
              "1                No             DSL            Yes  ...              Yes   \n",
              "2                No             DSL            Yes  ...               No   \n",
              "3  No phone service             DSL            Yes  ...              Yes   \n",
              "4                No     Fiber optic             No  ...               No   \n",
              "\n",
              "  TechSupport StreamingTV StreamingMovies        Contract PaperlessBilling  \\\n",
              "0          No          No              No  Month-to-month              Yes   \n",
              "1          No          No              No        One year               No   \n",
              "2          No          No              No  Month-to-month              Yes   \n",
              "3         Yes          No              No        One year               No   \n",
              "4          No          No              No  Month-to-month              Yes   \n",
              "\n",
              "               PaymentMethod MonthlyCharges  TotalCharges Churn  \n",
              "0           Electronic check          29.85         29.85    No  \n",
              "1               Mailed check          56.95        1889.5    No  \n",
              "2               Mailed check          53.85        108.15   Yes  \n",
              "3  Bank transfer (automatic)          42.30       1840.75    No  \n",
              "4           Electronic check          70.70        151.65   Yes  \n",
              "\n",
              "[5 rows x 21 columns]"
            ],
            "text/html": [
              "\n",
              "  <div id=\"df-e7f00e1a-f5c4-469f-80b6-7fd10fd68902\">\n",
              "    <div class=\"colab-df-container\">\n",
              "      <div>\n",
              "<style scoped>\n",
              "    .dataframe tbody tr th:only-of-type {\n",
              "        vertical-align: middle;\n",
              "    }\n",
              "\n",
              "    .dataframe tbody tr th {\n",
              "        vertical-align: top;\n",
              "    }\n",
              "\n",
              "    .dataframe thead th {\n",
              "        text-align: right;\n",
              "    }\n",
              "</style>\n",
              "<table border=\"1\" class=\"dataframe\">\n",
              "  <thead>\n",
              "    <tr style=\"text-align: right;\">\n",
              "      <th></th>\n",
              "      <th>customerID</th>\n",
              "      <th>gender</th>\n",
              "      <th>SeniorCitizen</th>\n",
              "      <th>Partner</th>\n",
              "      <th>Dependents</th>\n",
              "      <th>tenure</th>\n",
              "      <th>PhoneService</th>\n",
              "      <th>MultipleLines</th>\n",
              "      <th>InternetService</th>\n",
              "      <th>OnlineSecurity</th>\n",
              "      <th>...</th>\n",
              "      <th>DeviceProtection</th>\n",
              "      <th>TechSupport</th>\n",
              "      <th>StreamingTV</th>\n",
              "      <th>StreamingMovies</th>\n",
              "      <th>Contract</th>\n",
              "      <th>PaperlessBilling</th>\n",
              "      <th>PaymentMethod</th>\n",
              "      <th>MonthlyCharges</th>\n",
              "      <th>TotalCharges</th>\n",
              "      <th>Churn</th>\n",
              "    </tr>\n",
              "  </thead>\n",
              "  <tbody>\n",
              "    <tr>\n",
              "      <th>0</th>\n",
              "      <td>7590-VHVEG</td>\n",
              "      <td>Female</td>\n",
              "      <td>0</td>\n",
              "      <td>Yes</td>\n",
              "      <td>No</td>\n",
              "      <td>1</td>\n",
              "      <td>No</td>\n",
              "      <td>No phone service</td>\n",
              "      <td>DSL</td>\n",
              "      <td>No</td>\n",
              "      <td>...</td>\n",
              "      <td>No</td>\n",
              "      <td>No</td>\n",
              "      <td>No</td>\n",
              "      <td>No</td>\n",
              "      <td>Month-to-month</td>\n",
              "      <td>Yes</td>\n",
              "      <td>Electronic check</td>\n",
              "      <td>29.85</td>\n",
              "      <td>29.85</td>\n",
              "      <td>No</td>\n",
              "    </tr>\n",
              "    <tr>\n",
              "      <th>1</th>\n",
              "      <td>5575-GNVDE</td>\n",
              "      <td>Male</td>\n",
              "      <td>0</td>\n",
              "      <td>No</td>\n",
              "      <td>No</td>\n",
              "      <td>34</td>\n",
              "      <td>Yes</td>\n",
              "      <td>No</td>\n",
              "      <td>DSL</td>\n",
              "      <td>Yes</td>\n",
              "      <td>...</td>\n",
              "      <td>Yes</td>\n",
              "      <td>No</td>\n",
              "      <td>No</td>\n",
              "      <td>No</td>\n",
              "      <td>One year</td>\n",
              "      <td>No</td>\n",
              "      <td>Mailed check</td>\n",
              "      <td>56.95</td>\n",
              "      <td>1889.5</td>\n",
              "      <td>No</td>\n",
              "    </tr>\n",
              "    <tr>\n",
              "      <th>2</th>\n",
              "      <td>3668-QPYBK</td>\n",
              "      <td>Male</td>\n",
              "      <td>0</td>\n",
              "      <td>No</td>\n",
              "      <td>No</td>\n",
              "      <td>2</td>\n",
              "      <td>Yes</td>\n",
              "      <td>No</td>\n",
              "      <td>DSL</td>\n",
              "      <td>Yes</td>\n",
              "      <td>...</td>\n",
              "      <td>No</td>\n",
              "      <td>No</td>\n",
              "      <td>No</td>\n",
              "      <td>No</td>\n",
              "      <td>Month-to-month</td>\n",
              "      <td>Yes</td>\n",
              "      <td>Mailed check</td>\n",
              "      <td>53.85</td>\n",
              "      <td>108.15</td>\n",
              "      <td>Yes</td>\n",
              "    </tr>\n",
              "    <tr>\n",
              "      <th>3</th>\n",
              "      <td>7795-CFOCW</td>\n",
              "      <td>Male</td>\n",
              "      <td>0</td>\n",
              "      <td>No</td>\n",
              "      <td>No</td>\n",
              "      <td>45</td>\n",
              "      <td>No</td>\n",
              "      <td>No phone service</td>\n",
              "      <td>DSL</td>\n",
              "      <td>Yes</td>\n",
              "      <td>...</td>\n",
              "      <td>Yes</td>\n",
              "      <td>Yes</td>\n",
              "      <td>No</td>\n",
              "      <td>No</td>\n",
              "      <td>One year</td>\n",
              "      <td>No</td>\n",
              "      <td>Bank transfer (automatic)</td>\n",
              "      <td>42.30</td>\n",
              "      <td>1840.75</td>\n",
              "      <td>No</td>\n",
              "    </tr>\n",
              "    <tr>\n",
              "      <th>4</th>\n",
              "      <td>9237-HQITU</td>\n",
              "      <td>Female</td>\n",
              "      <td>0</td>\n",
              "      <td>No</td>\n",
              "      <td>No</td>\n",
              "      <td>2</td>\n",
              "      <td>Yes</td>\n",
              "      <td>No</td>\n",
              "      <td>Fiber optic</td>\n",
              "      <td>No</td>\n",
              "      <td>...</td>\n",
              "      <td>No</td>\n",
              "      <td>No</td>\n",
              "      <td>No</td>\n",
              "      <td>No</td>\n",
              "      <td>Month-to-month</td>\n",
              "      <td>Yes</td>\n",
              "      <td>Electronic check</td>\n",
              "      <td>70.70</td>\n",
              "      <td>151.65</td>\n",
              "      <td>Yes</td>\n",
              "    </tr>\n",
              "  </tbody>\n",
              "</table>\n",
              "<p>5 rows × 21 columns</p>\n",
              "</div>\n",
              "      <button class=\"colab-df-convert\" onclick=\"convertToInteractive('df-e7f00e1a-f5c4-469f-80b6-7fd10fd68902')\"\n",
              "              title=\"Convert this dataframe to an interactive table.\"\n",
              "              style=\"display:none;\">\n",
              "        \n",
              "  <svg xmlns=\"http://www.w3.org/2000/svg\" height=\"24px\"viewBox=\"0 0 24 24\"\n",
              "       width=\"24px\">\n",
              "    <path d=\"M0 0h24v24H0V0z\" fill=\"none\"/>\n",
              "    <path d=\"M18.56 5.44l.94 2.06.94-2.06 2.06-.94-2.06-.94-.94-2.06-.94 2.06-2.06.94zm-11 1L8.5 8.5l.94-2.06 2.06-.94-2.06-.94L8.5 2.5l-.94 2.06-2.06.94zm10 10l.94 2.06.94-2.06 2.06-.94-2.06-.94-.94-2.06-.94 2.06-2.06.94z\"/><path d=\"M17.41 7.96l-1.37-1.37c-.4-.4-.92-.59-1.43-.59-.52 0-1.04.2-1.43.59L10.3 9.45l-7.72 7.72c-.78.78-.78 2.05 0 2.83L4 21.41c.39.39.9.59 1.41.59.51 0 1.02-.2 1.41-.59l7.78-7.78 2.81-2.81c.8-.78.8-2.07 0-2.86zM5.41 20L4 18.59l7.72-7.72 1.47 1.35L5.41 20z\"/>\n",
              "  </svg>\n",
              "      </button>\n",
              "      \n",
              "  <style>\n",
              "    .colab-df-container {\n",
              "      display:flex;\n",
              "      flex-wrap:wrap;\n",
              "      gap: 12px;\n",
              "    }\n",
              "\n",
              "    .colab-df-convert {\n",
              "      background-color: #E8F0FE;\n",
              "      border: none;\n",
              "      border-radius: 50%;\n",
              "      cursor: pointer;\n",
              "      display: none;\n",
              "      fill: #1967D2;\n",
              "      height: 32px;\n",
              "      padding: 0 0 0 0;\n",
              "      width: 32px;\n",
              "    }\n",
              "\n",
              "    .colab-df-convert:hover {\n",
              "      background-color: #E2EBFA;\n",
              "      box-shadow: 0px 1px 2px rgba(60, 64, 67, 0.3), 0px 1px 3px 1px rgba(60, 64, 67, 0.15);\n",
              "      fill: #174EA6;\n",
              "    }\n",
              "\n",
              "    [theme=dark] .colab-df-convert {\n",
              "      background-color: #3B4455;\n",
              "      fill: #D2E3FC;\n",
              "    }\n",
              "\n",
              "    [theme=dark] .colab-df-convert:hover {\n",
              "      background-color: #434B5C;\n",
              "      box-shadow: 0px 1px 3px 1px rgba(0, 0, 0, 0.15);\n",
              "      filter: drop-shadow(0px 1px 2px rgba(0, 0, 0, 0.3));\n",
              "      fill: #FFFFFF;\n",
              "    }\n",
              "  </style>\n",
              "\n",
              "      <script>\n",
              "        const buttonEl =\n",
              "          document.querySelector('#df-e7f00e1a-f5c4-469f-80b6-7fd10fd68902 button.colab-df-convert');\n",
              "        buttonEl.style.display =\n",
              "          google.colab.kernel.accessAllowed ? 'block' : 'none';\n",
              "\n",
              "        async function convertToInteractive(key) {\n",
              "          const element = document.querySelector('#df-e7f00e1a-f5c4-469f-80b6-7fd10fd68902');\n",
              "          const dataTable =\n",
              "            await google.colab.kernel.invokeFunction('convertToInteractive',\n",
              "                                                     [key], {});\n",
              "          if (!dataTable) return;\n",
              "\n",
              "          const docLinkHtml = 'Like what you see? Visit the ' +\n",
              "            '<a target=\"_blank\" href=https://colab.research.google.com/notebooks/data_table.ipynb>data table notebook</a>'\n",
              "            + ' to learn more about interactive tables.';\n",
              "          element.innerHTML = '';\n",
              "          dataTable['output_type'] = 'display_data';\n",
              "          await google.colab.output.renderOutput(dataTable, element);\n",
              "          const docLink = document.createElement('div');\n",
              "          docLink.innerHTML = docLinkHtml;\n",
              "          element.appendChild(docLink);\n",
              "        }\n",
              "      </script>\n",
              "    </div>\n",
              "  </div>\n",
              "  "
            ]
          },
          "metadata": {},
          "execution_count": 3
        }
      ]
    },
    {
      "cell_type": "code",
      "source": [
        "# ver as 5 últimas entradas\n",
        "df.tail()"
      ],
      "metadata": {
        "colab": {
          "base_uri": "https://localhost:8080/",
          "height": 387
        },
        "id": "WgFj_ip5TPTN",
        "outputId": "ef1416b9-84bb-49d9-892b-4bdfcd7b270a"
      },
      "execution_count": null,
      "outputs": [
        {
          "output_type": "execute_result",
          "data": {
            "text/plain": [
              "      customerID  gender  SeniorCitizen Partner Dependents  tenure  \\\n",
              "7038  6840-RESVB    Male              0     Yes        Yes      24   \n",
              "7039  2234-XADUH  Female              0     Yes        Yes      72   \n",
              "7040  4801-JZAZL  Female              0     Yes        Yes      11   \n",
              "7041  8361-LTMKD    Male              1     Yes         No       4   \n",
              "7042  3186-AJIEK    Male              0      No         No      66   \n",
              "\n",
              "     PhoneService     MultipleLines InternetService OnlineSecurity  ...  \\\n",
              "7038          Yes               Yes             DSL            Yes  ...   \n",
              "7039          Yes               Yes     Fiber optic             No  ...   \n",
              "7040           No  No phone service             DSL            Yes  ...   \n",
              "7041          Yes               Yes     Fiber optic             No  ...   \n",
              "7042          Yes                No     Fiber optic            Yes  ...   \n",
              "\n",
              "     DeviceProtection TechSupport StreamingTV StreamingMovies        Contract  \\\n",
              "7038              Yes         Yes         Yes             Yes        One year   \n",
              "7039              Yes          No         Yes             Yes        One year   \n",
              "7040               No          No          No              No  Month-to-month   \n",
              "7041               No          No          No              No  Month-to-month   \n",
              "7042              Yes         Yes         Yes             Yes        Two year   \n",
              "\n",
              "     PaperlessBilling              PaymentMethod MonthlyCharges  TotalCharges  \\\n",
              "7038              Yes               Mailed check          84.80        1990.5   \n",
              "7039              Yes    Credit card (automatic)         103.20        7362.9   \n",
              "7040              Yes           Electronic check          29.60        346.45   \n",
              "7041              Yes               Mailed check          74.40         306.6   \n",
              "7042              Yes  Bank transfer (automatic)         105.65        6844.5   \n",
              "\n",
              "     Churn  \n",
              "7038    No  \n",
              "7039    No  \n",
              "7040    No  \n",
              "7041   Yes  \n",
              "7042    No  \n",
              "\n",
              "[5 rows x 21 columns]"
            ],
            "text/html": [
              "\n",
              "  <div id=\"df-7d9ad02a-9fb1-41ef-b99d-4c80a3d2a74d\">\n",
              "    <div class=\"colab-df-container\">\n",
              "      <div>\n",
              "<style scoped>\n",
              "    .dataframe tbody tr th:only-of-type {\n",
              "        vertical-align: middle;\n",
              "    }\n",
              "\n",
              "    .dataframe tbody tr th {\n",
              "        vertical-align: top;\n",
              "    }\n",
              "\n",
              "    .dataframe thead th {\n",
              "        text-align: right;\n",
              "    }\n",
              "</style>\n",
              "<table border=\"1\" class=\"dataframe\">\n",
              "  <thead>\n",
              "    <tr style=\"text-align: right;\">\n",
              "      <th></th>\n",
              "      <th>customerID</th>\n",
              "      <th>gender</th>\n",
              "      <th>SeniorCitizen</th>\n",
              "      <th>Partner</th>\n",
              "      <th>Dependents</th>\n",
              "      <th>tenure</th>\n",
              "      <th>PhoneService</th>\n",
              "      <th>MultipleLines</th>\n",
              "      <th>InternetService</th>\n",
              "      <th>OnlineSecurity</th>\n",
              "      <th>...</th>\n",
              "      <th>DeviceProtection</th>\n",
              "      <th>TechSupport</th>\n",
              "      <th>StreamingTV</th>\n",
              "      <th>StreamingMovies</th>\n",
              "      <th>Contract</th>\n",
              "      <th>PaperlessBilling</th>\n",
              "      <th>PaymentMethod</th>\n",
              "      <th>MonthlyCharges</th>\n",
              "      <th>TotalCharges</th>\n",
              "      <th>Churn</th>\n",
              "    </tr>\n",
              "  </thead>\n",
              "  <tbody>\n",
              "    <tr>\n",
              "      <th>7038</th>\n",
              "      <td>6840-RESVB</td>\n",
              "      <td>Male</td>\n",
              "      <td>0</td>\n",
              "      <td>Yes</td>\n",
              "      <td>Yes</td>\n",
              "      <td>24</td>\n",
              "      <td>Yes</td>\n",
              "      <td>Yes</td>\n",
              "      <td>DSL</td>\n",
              "      <td>Yes</td>\n",
              "      <td>...</td>\n",
              "      <td>Yes</td>\n",
              "      <td>Yes</td>\n",
              "      <td>Yes</td>\n",
              "      <td>Yes</td>\n",
              "      <td>One year</td>\n",
              "      <td>Yes</td>\n",
              "      <td>Mailed check</td>\n",
              "      <td>84.80</td>\n",
              "      <td>1990.5</td>\n",
              "      <td>No</td>\n",
              "    </tr>\n",
              "    <tr>\n",
              "      <th>7039</th>\n",
              "      <td>2234-XADUH</td>\n",
              "      <td>Female</td>\n",
              "      <td>0</td>\n",
              "      <td>Yes</td>\n",
              "      <td>Yes</td>\n",
              "      <td>72</td>\n",
              "      <td>Yes</td>\n",
              "      <td>Yes</td>\n",
              "      <td>Fiber optic</td>\n",
              "      <td>No</td>\n",
              "      <td>...</td>\n",
              "      <td>Yes</td>\n",
              "      <td>No</td>\n",
              "      <td>Yes</td>\n",
              "      <td>Yes</td>\n",
              "      <td>One year</td>\n",
              "      <td>Yes</td>\n",
              "      <td>Credit card (automatic)</td>\n",
              "      <td>103.20</td>\n",
              "      <td>7362.9</td>\n",
              "      <td>No</td>\n",
              "    </tr>\n",
              "    <tr>\n",
              "      <th>7040</th>\n",
              "      <td>4801-JZAZL</td>\n",
              "      <td>Female</td>\n",
              "      <td>0</td>\n",
              "      <td>Yes</td>\n",
              "      <td>Yes</td>\n",
              "      <td>11</td>\n",
              "      <td>No</td>\n",
              "      <td>No phone service</td>\n",
              "      <td>DSL</td>\n",
              "      <td>Yes</td>\n",
              "      <td>...</td>\n",
              "      <td>No</td>\n",
              "      <td>No</td>\n",
              "      <td>No</td>\n",
              "      <td>No</td>\n",
              "      <td>Month-to-month</td>\n",
              "      <td>Yes</td>\n",
              "      <td>Electronic check</td>\n",
              "      <td>29.60</td>\n",
              "      <td>346.45</td>\n",
              "      <td>No</td>\n",
              "    </tr>\n",
              "    <tr>\n",
              "      <th>7041</th>\n",
              "      <td>8361-LTMKD</td>\n",
              "      <td>Male</td>\n",
              "      <td>1</td>\n",
              "      <td>Yes</td>\n",
              "      <td>No</td>\n",
              "      <td>4</td>\n",
              "      <td>Yes</td>\n",
              "      <td>Yes</td>\n",
              "      <td>Fiber optic</td>\n",
              "      <td>No</td>\n",
              "      <td>...</td>\n",
              "      <td>No</td>\n",
              "      <td>No</td>\n",
              "      <td>No</td>\n",
              "      <td>No</td>\n",
              "      <td>Month-to-month</td>\n",
              "      <td>Yes</td>\n",
              "      <td>Mailed check</td>\n",
              "      <td>74.40</td>\n",
              "      <td>306.6</td>\n",
              "      <td>Yes</td>\n",
              "    </tr>\n",
              "    <tr>\n",
              "      <th>7042</th>\n",
              "      <td>3186-AJIEK</td>\n",
              "      <td>Male</td>\n",
              "      <td>0</td>\n",
              "      <td>No</td>\n",
              "      <td>No</td>\n",
              "      <td>66</td>\n",
              "      <td>Yes</td>\n",
              "      <td>No</td>\n",
              "      <td>Fiber optic</td>\n",
              "      <td>Yes</td>\n",
              "      <td>...</td>\n",
              "      <td>Yes</td>\n",
              "      <td>Yes</td>\n",
              "      <td>Yes</td>\n",
              "      <td>Yes</td>\n",
              "      <td>Two year</td>\n",
              "      <td>Yes</td>\n",
              "      <td>Bank transfer (automatic)</td>\n",
              "      <td>105.65</td>\n",
              "      <td>6844.5</td>\n",
              "      <td>No</td>\n",
              "    </tr>\n",
              "  </tbody>\n",
              "</table>\n",
              "<p>5 rows × 21 columns</p>\n",
              "</div>\n",
              "      <button class=\"colab-df-convert\" onclick=\"convertToInteractive('df-7d9ad02a-9fb1-41ef-b99d-4c80a3d2a74d')\"\n",
              "              title=\"Convert this dataframe to an interactive table.\"\n",
              "              style=\"display:none;\">\n",
              "        \n",
              "  <svg xmlns=\"http://www.w3.org/2000/svg\" height=\"24px\"viewBox=\"0 0 24 24\"\n",
              "       width=\"24px\">\n",
              "    <path d=\"M0 0h24v24H0V0z\" fill=\"none\"/>\n",
              "    <path d=\"M18.56 5.44l.94 2.06.94-2.06 2.06-.94-2.06-.94-.94-2.06-.94 2.06-2.06.94zm-11 1L8.5 8.5l.94-2.06 2.06-.94-2.06-.94L8.5 2.5l-.94 2.06-2.06.94zm10 10l.94 2.06.94-2.06 2.06-.94-2.06-.94-.94-2.06-.94 2.06-2.06.94z\"/><path d=\"M17.41 7.96l-1.37-1.37c-.4-.4-.92-.59-1.43-.59-.52 0-1.04.2-1.43.59L10.3 9.45l-7.72 7.72c-.78.78-.78 2.05 0 2.83L4 21.41c.39.39.9.59 1.41.59.51 0 1.02-.2 1.41-.59l7.78-7.78 2.81-2.81c.8-.78.8-2.07 0-2.86zM5.41 20L4 18.59l7.72-7.72 1.47 1.35L5.41 20z\"/>\n",
              "  </svg>\n",
              "      </button>\n",
              "      \n",
              "  <style>\n",
              "    .colab-df-container {\n",
              "      display:flex;\n",
              "      flex-wrap:wrap;\n",
              "      gap: 12px;\n",
              "    }\n",
              "\n",
              "    .colab-df-convert {\n",
              "      background-color: #E8F0FE;\n",
              "      border: none;\n",
              "      border-radius: 50%;\n",
              "      cursor: pointer;\n",
              "      display: none;\n",
              "      fill: #1967D2;\n",
              "      height: 32px;\n",
              "      padding: 0 0 0 0;\n",
              "      width: 32px;\n",
              "    }\n",
              "\n",
              "    .colab-df-convert:hover {\n",
              "      background-color: #E2EBFA;\n",
              "      box-shadow: 0px 1px 2px rgba(60, 64, 67, 0.3), 0px 1px 3px 1px rgba(60, 64, 67, 0.15);\n",
              "      fill: #174EA6;\n",
              "    }\n",
              "\n",
              "    [theme=dark] .colab-df-convert {\n",
              "      background-color: #3B4455;\n",
              "      fill: #D2E3FC;\n",
              "    }\n",
              "\n",
              "    [theme=dark] .colab-df-convert:hover {\n",
              "      background-color: #434B5C;\n",
              "      box-shadow: 0px 1px 3px 1px rgba(0, 0, 0, 0.15);\n",
              "      filter: drop-shadow(0px 1px 2px rgba(0, 0, 0, 0.3));\n",
              "      fill: #FFFFFF;\n",
              "    }\n",
              "  </style>\n",
              "\n",
              "      <script>\n",
              "        const buttonEl =\n",
              "          document.querySelector('#df-7d9ad02a-9fb1-41ef-b99d-4c80a3d2a74d button.colab-df-convert');\n",
              "        buttonEl.style.display =\n",
              "          google.colab.kernel.accessAllowed ? 'block' : 'none';\n",
              "\n",
              "        async function convertToInteractive(key) {\n",
              "          const element = document.querySelector('#df-7d9ad02a-9fb1-41ef-b99d-4c80a3d2a74d');\n",
              "          const dataTable =\n",
              "            await google.colab.kernel.invokeFunction('convertToInteractive',\n",
              "                                                     [key], {});\n",
              "          if (!dataTable) return;\n",
              "\n",
              "          const docLinkHtml = 'Like what you see? Visit the ' +\n",
              "            '<a target=\"_blank\" href=https://colab.research.google.com/notebooks/data_table.ipynb>data table notebook</a>'\n",
              "            + ' to learn more about interactive tables.';\n",
              "          element.innerHTML = '';\n",
              "          dataTable['output_type'] = 'display_data';\n",
              "          await google.colab.output.renderOutput(dataTable, element);\n",
              "          const docLink = document.createElement('div');\n",
              "          docLink.innerHTML = docLinkHtml;\n",
              "          element.appendChild(docLink);\n",
              "        }\n",
              "      </script>\n",
              "    </div>\n",
              "  </div>\n",
              "  "
            ]
          },
          "metadata": {},
          "execution_count": 4
        }
      ]
    },
    {
      "cell_type": "markdown",
      "source": [
        "Seguindo a exploração dos dados, pode-se identificar a quantidade de entradas diferentes presente em cada uma das variáveis. A quantidade de entradas presentes é determinante para definir o tratamento que será realizado na coluna em questão, durante a etapa de modelagem dos dados.\n",
        "\n",
        "Para saber mais a respeito do tratamento de dados categóricos, pode encontrar mais detalhes [neste artigo](https://towardsdatascience.com/categorical-encoding-using-label-encoding-and-one-hot-encoder-911ef77fb5bd).\n",
        "\n",
        "Além da análise feita nas variáveis categóricas, também é possível notar uma inconsistência com a variável `TotalCharges`. Uma vez que nas visualizações acima, as informações presentes são dados numéricos, o tipo objeto - observado abaixo - não corresponde ao esperado. Contudo, será necessário verificar a variável a fim de identificar se existem entradas indesejadas."
      ],
      "metadata": {
        "id": "VIG0ewmy0Of4"
      }
    },
    {
      "cell_type": "code",
      "source": [
        "# verificar tipos das variáveis\n",
        "print('-> Tipos das variáveis:\\n{}'.format(df.dtypes))\n",
        "\n",
        "# verificar valores nulos por variáveis\n",
        "print('\\n-> Soma da valores nulos em cada variável:\\n{}'.format(df.isnull().sum()))\n",
        "\n",
        "# verificar soma de valores nulos\n",
        "print('\\n-> A soma dos valores nulos no dataset é: {}'.format(df.isnull().sum().max()))\n",
        "\n",
        "# verificar nome das variáveis\n",
        "print('\\n-> Nome das variáveis:\\n{}'.format(df.columns))\n",
        "\n",
        "# verificar valores únicos por variável\n",
        "print('\\nValores únicos por variável>\\n{}'.format(df.nunique()))"
      ],
      "metadata": {
        "colab": {
          "base_uri": "https://localhost:8080/"
        },
        "id": "aHwcBWHfiJnN",
        "outputId": "1d9f8009-319b-4dad-b8de-08b34ea5df94"
      },
      "execution_count": null,
      "outputs": [
        {
          "output_type": "stream",
          "name": "stdout",
          "text": [
            "-> Tipos das variáveis:\n",
            "customerID           object\n",
            "gender               object\n",
            "SeniorCitizen         int64\n",
            "Partner              object\n",
            "Dependents           object\n",
            "tenure                int64\n",
            "PhoneService         object\n",
            "MultipleLines        object\n",
            "InternetService      object\n",
            "OnlineSecurity       object\n",
            "OnlineBackup         object\n",
            "DeviceProtection     object\n",
            "TechSupport          object\n",
            "StreamingTV          object\n",
            "StreamingMovies      object\n",
            "Contract             object\n",
            "PaperlessBilling     object\n",
            "PaymentMethod        object\n",
            "MonthlyCharges      float64\n",
            "TotalCharges         object\n",
            "Churn                object\n",
            "dtype: object\n",
            "\n",
            "-> Soma da valores nulos em cada variável:\n",
            "customerID          0\n",
            "gender              0\n",
            "SeniorCitizen       0\n",
            "Partner             0\n",
            "Dependents          0\n",
            "tenure              0\n",
            "PhoneService        0\n",
            "MultipleLines       0\n",
            "InternetService     0\n",
            "OnlineSecurity      0\n",
            "OnlineBackup        0\n",
            "DeviceProtection    0\n",
            "TechSupport         0\n",
            "StreamingTV         0\n",
            "StreamingMovies     0\n",
            "Contract            0\n",
            "PaperlessBilling    0\n",
            "PaymentMethod       0\n",
            "MonthlyCharges      0\n",
            "TotalCharges        0\n",
            "Churn               0\n",
            "dtype: int64\n",
            "\n",
            "-> A soma dos valores nulos no dataset é: 0\n",
            "\n",
            "-> Nome das variáveis:\n",
            "Index(['customerID', 'gender', 'SeniorCitizen', 'Partner', 'Dependents',\n",
            "       'tenure', 'PhoneService', 'MultipleLines', 'InternetService',\n",
            "       'OnlineSecurity', 'OnlineBackup', 'DeviceProtection', 'TechSupport',\n",
            "       'StreamingTV', 'StreamingMovies', 'Contract', 'PaperlessBilling',\n",
            "       'PaymentMethod', 'MonthlyCharges', 'TotalCharges', 'Churn'],\n",
            "      dtype='object')\n",
            "\n",
            "Valores únicos por variável>\n",
            "customerID          7043\n",
            "gender                 2\n",
            "SeniorCitizen          2\n",
            "Partner                2\n",
            "Dependents             2\n",
            "tenure                73\n",
            "PhoneService           2\n",
            "MultipleLines          3\n",
            "InternetService        3\n",
            "OnlineSecurity         3\n",
            "OnlineBackup           3\n",
            "DeviceProtection       3\n",
            "TechSupport            3\n",
            "StreamingTV            3\n",
            "StreamingMovies        3\n",
            "Contract               3\n",
            "PaperlessBilling       2\n",
            "PaymentMethod          4\n",
            "MonthlyCharges      1585\n",
            "TotalCharges        6531\n",
            "Churn                  2\n",
            "dtype: int64\n"
          ]
        }
      ]
    },
    {
      "cell_type": "markdown",
      "source": [
        "### Limpeza dos dados\n",
        "\n",
        "Conforme citado, ao tentar converter a variável `TotalCharges` para flot64, encontra-se um erro indicando que há strings na variável. Para isso será preciso implementar uma função para identificar os valores indesejados e transformar as strings em nan, e, posteriormente, ser possível alterar o formato da variável `TotalCharges` em float64 e dar sequencia no projeto."
      ],
      "metadata": {
        "id": "iRD7v_8FSdDs"
      }
    },
    {
      "cell_type": "code",
      "source": [
        "# # converter `TotalCharges`para float64\n",
        "# df.TotalCharges.astype('float64')"
      ],
      "metadata": {
        "id": "lVTkyDjtSGRU"
      },
      "execution_count": null,
      "outputs": []
    },
    {
      "cell_type": "code",
      "source": [
        "def transf_str_float(entrada):\n",
        "    \"\"\"\n",
        "    Converte um objeto do tipo string em float.\n",
        "\n",
        "    # Arguments\n",
        "        entrada: string, string da coluna TotalCharges.\n",
        "\n",
        "    # Returns\n",
        "        Valor convertido em float, caso permita a conversão.\n",
        "        NaN, caso o valor não seja apropriado.\n",
        "    \"\"\"\n",
        "    \n",
        "    try:\n",
        "      return float(entrada)\n",
        "    except ValueError:\n",
        "      return np.nan\n",
        "\n",
        "# criar copia do dataset\n",
        "df_clean = df.copy()\n",
        "\n",
        "# remover variável `customerID` do dataset\n",
        "df_clean.drop('customerID', axis=1, inplace=True)\n",
        "\n",
        "# transformar string em float64 na variável `TotalCharges`\n",
        "df_clean['TotalCharges'] = df_clean['TotalCharges'].apply(transf_str_float)\n",
        "\n",
        "print('Antes do tratamento:')\n",
        "# verificar quantidade de valores convertidos de string para nan\n",
        "print('Existem {} entradas NaN na variável `TotalCharges`\\n'.format(df_clean['TotalCharges'].isnull().sum()))\n",
        "\n",
        "# transformar valores nan na mediana da variável `TotalCharges`\n",
        "median_TotalCharges = df_clean.TotalCharges.median()\n",
        "df_clean.TotalCharges.fillna(median_TotalCharges, axis=0, inplace=True)\n",
        "\n",
        "print('Após o tratamento:')\n",
        "print('Existem {} entradas NaN na variável `TotalCharges`\\n'.format(df_clean.TotalCharges.isna().sum()))"
      ],
      "metadata": {
        "colab": {
          "base_uri": "https://localhost:8080/"
        },
        "id": "4xpIFi-xS9yo",
        "outputId": "4d3eb396-487b-4347-a396-28cc4bc6b0a3"
      },
      "execution_count": null,
      "outputs": [
        {
          "output_type": "stream",
          "name": "stdout",
          "text": [
            "Antes do tratamento:\n",
            "Existem 11 entradas NaN na variável `TotalCharges`\n",
            "\n",
            "Após o tratamento:\n",
            "Existem 0 entradas NaN na variável `TotalCharges`\n",
            "\n"
          ]
        }
      ]
    },
    {
      "cell_type": "markdown",
      "source": [
        "### Análise estatística\n",
        "\n",
        "A análise descritiva estatística dos valores é fundamental para entender o comportamento da variáveis numéricas do dataset. A partir da função `describe()` e plot dos gráficos `boxplot`, pode-se elecar duas observações a serem consideradas:\n",
        "\n",
        "- A coluna `TotalCharges` não apresenta outliers, quando analisada como um todo. No entanto, ao verificar apenas as entradas de churn, observa-se a presença de outliers. Apesar disso, não será necessário tratar esses valores. Contudo, tal observação pode ser um indício de que cliente que já pagaram altas quantias, tendem a cancelarem suas assinaturas.\n",
        " \n",
        "- Ao verificar a coluna `MonthlyCharges`, a média das entradas que indicam churn, é maior que a média dos não churns. Já para `TotalCharges`, a média das entradas que indicam churn, é menor que a média dos não churns. Este fato pode indicar uma tendência de desistência maior para usuários com maiores taxas mensais de assinatura. "
      ],
      "metadata": {
        "id": "4oTyuclxxDJt"
      }
    },
    {
      "cell_type": "code",
      "source": [
        "df_clean.describe()"
      ],
      "metadata": {
        "colab": {
          "base_uri": "https://localhost:8080/",
          "height": 301
        },
        "id": "WN2OPdbrwwdu",
        "outputId": "95b2b836-5fc9-4ce5-84c5-4456cc132d4b"
      },
      "execution_count": null,
      "outputs": [
        {
          "output_type": "execute_result",
          "data": {
            "text/plain": [
              "       SeniorCitizen       tenure  MonthlyCharges  TotalCharges\n",
              "count    7043.000000  7043.000000     7043.000000   7043.000000\n",
              "mean        0.162147    32.371149       64.761692   2281.916928\n",
              "std         0.368612    24.559481       30.090047   2265.270398\n",
              "min         0.000000     0.000000       18.250000     18.800000\n",
              "25%         0.000000     9.000000       35.500000    402.225000\n",
              "50%         0.000000    29.000000       70.350000   1397.475000\n",
              "75%         0.000000    55.000000       89.850000   3786.600000\n",
              "max         1.000000    72.000000      118.750000   8684.800000"
            ],
            "text/html": [
              "\n",
              "  <div id=\"df-381cb4ae-f3c6-48b8-8955-3bcb096588cd\">\n",
              "    <div class=\"colab-df-container\">\n",
              "      <div>\n",
              "<style scoped>\n",
              "    .dataframe tbody tr th:only-of-type {\n",
              "        vertical-align: middle;\n",
              "    }\n",
              "\n",
              "    .dataframe tbody tr th {\n",
              "        vertical-align: top;\n",
              "    }\n",
              "\n",
              "    .dataframe thead th {\n",
              "        text-align: right;\n",
              "    }\n",
              "</style>\n",
              "<table border=\"1\" class=\"dataframe\">\n",
              "  <thead>\n",
              "    <tr style=\"text-align: right;\">\n",
              "      <th></th>\n",
              "      <th>SeniorCitizen</th>\n",
              "      <th>tenure</th>\n",
              "      <th>MonthlyCharges</th>\n",
              "      <th>TotalCharges</th>\n",
              "    </tr>\n",
              "  </thead>\n",
              "  <tbody>\n",
              "    <tr>\n",
              "      <th>count</th>\n",
              "      <td>7043.000000</td>\n",
              "      <td>7043.000000</td>\n",
              "      <td>7043.000000</td>\n",
              "      <td>7043.000000</td>\n",
              "    </tr>\n",
              "    <tr>\n",
              "      <th>mean</th>\n",
              "      <td>0.162147</td>\n",
              "      <td>32.371149</td>\n",
              "      <td>64.761692</td>\n",
              "      <td>2281.916928</td>\n",
              "    </tr>\n",
              "    <tr>\n",
              "      <th>std</th>\n",
              "      <td>0.368612</td>\n",
              "      <td>24.559481</td>\n",
              "      <td>30.090047</td>\n",
              "      <td>2265.270398</td>\n",
              "    </tr>\n",
              "    <tr>\n",
              "      <th>min</th>\n",
              "      <td>0.000000</td>\n",
              "      <td>0.000000</td>\n",
              "      <td>18.250000</td>\n",
              "      <td>18.800000</td>\n",
              "    </tr>\n",
              "    <tr>\n",
              "      <th>25%</th>\n",
              "      <td>0.000000</td>\n",
              "      <td>9.000000</td>\n",
              "      <td>35.500000</td>\n",
              "      <td>402.225000</td>\n",
              "    </tr>\n",
              "    <tr>\n",
              "      <th>50%</th>\n",
              "      <td>0.000000</td>\n",
              "      <td>29.000000</td>\n",
              "      <td>70.350000</td>\n",
              "      <td>1397.475000</td>\n",
              "    </tr>\n",
              "    <tr>\n",
              "      <th>75%</th>\n",
              "      <td>0.000000</td>\n",
              "      <td>55.000000</td>\n",
              "      <td>89.850000</td>\n",
              "      <td>3786.600000</td>\n",
              "    </tr>\n",
              "    <tr>\n",
              "      <th>max</th>\n",
              "      <td>1.000000</td>\n",
              "      <td>72.000000</td>\n",
              "      <td>118.750000</td>\n",
              "      <td>8684.800000</td>\n",
              "    </tr>\n",
              "  </tbody>\n",
              "</table>\n",
              "</div>\n",
              "      <button class=\"colab-df-convert\" onclick=\"convertToInteractive('df-381cb4ae-f3c6-48b8-8955-3bcb096588cd')\"\n",
              "              title=\"Convert this dataframe to an interactive table.\"\n",
              "              style=\"display:none;\">\n",
              "        \n",
              "  <svg xmlns=\"http://www.w3.org/2000/svg\" height=\"24px\"viewBox=\"0 0 24 24\"\n",
              "       width=\"24px\">\n",
              "    <path d=\"M0 0h24v24H0V0z\" fill=\"none\"/>\n",
              "    <path d=\"M18.56 5.44l.94 2.06.94-2.06 2.06-.94-2.06-.94-.94-2.06-.94 2.06-2.06.94zm-11 1L8.5 8.5l.94-2.06 2.06-.94-2.06-.94L8.5 2.5l-.94 2.06-2.06.94zm10 10l.94 2.06.94-2.06 2.06-.94-2.06-.94-.94-2.06-.94 2.06-2.06.94z\"/><path d=\"M17.41 7.96l-1.37-1.37c-.4-.4-.92-.59-1.43-.59-.52 0-1.04.2-1.43.59L10.3 9.45l-7.72 7.72c-.78.78-.78 2.05 0 2.83L4 21.41c.39.39.9.59 1.41.59.51 0 1.02-.2 1.41-.59l7.78-7.78 2.81-2.81c.8-.78.8-2.07 0-2.86zM5.41 20L4 18.59l7.72-7.72 1.47 1.35L5.41 20z\"/>\n",
              "  </svg>\n",
              "      </button>\n",
              "      \n",
              "  <style>\n",
              "    .colab-df-container {\n",
              "      display:flex;\n",
              "      flex-wrap:wrap;\n",
              "      gap: 12px;\n",
              "    }\n",
              "\n",
              "    .colab-df-convert {\n",
              "      background-color: #E8F0FE;\n",
              "      border: none;\n",
              "      border-radius: 50%;\n",
              "      cursor: pointer;\n",
              "      display: none;\n",
              "      fill: #1967D2;\n",
              "      height: 32px;\n",
              "      padding: 0 0 0 0;\n",
              "      width: 32px;\n",
              "    }\n",
              "\n",
              "    .colab-df-convert:hover {\n",
              "      background-color: #E2EBFA;\n",
              "      box-shadow: 0px 1px 2px rgba(60, 64, 67, 0.3), 0px 1px 3px 1px rgba(60, 64, 67, 0.15);\n",
              "      fill: #174EA6;\n",
              "    }\n",
              "\n",
              "    [theme=dark] .colab-df-convert {\n",
              "      background-color: #3B4455;\n",
              "      fill: #D2E3FC;\n",
              "    }\n",
              "\n",
              "    [theme=dark] .colab-df-convert:hover {\n",
              "      background-color: #434B5C;\n",
              "      box-shadow: 0px 1px 3px 1px rgba(0, 0, 0, 0.15);\n",
              "      filter: drop-shadow(0px 1px 2px rgba(0, 0, 0, 0.3));\n",
              "      fill: #FFFFFF;\n",
              "    }\n",
              "  </style>\n",
              "\n",
              "      <script>\n",
              "        const buttonEl =\n",
              "          document.querySelector('#df-381cb4ae-f3c6-48b8-8955-3bcb096588cd button.colab-df-convert');\n",
              "        buttonEl.style.display =\n",
              "          google.colab.kernel.accessAllowed ? 'block' : 'none';\n",
              "\n",
              "        async function convertToInteractive(key) {\n",
              "          const element = document.querySelector('#df-381cb4ae-f3c6-48b8-8955-3bcb096588cd');\n",
              "          const dataTable =\n",
              "            await google.colab.kernel.invokeFunction('convertToInteractive',\n",
              "                                                     [key], {});\n",
              "          if (!dataTable) return;\n",
              "\n",
              "          const docLinkHtml = 'Like what you see? Visit the ' +\n",
              "            '<a target=\"_blank\" href=https://colab.research.google.com/notebooks/data_table.ipynb>data table notebook</a>'\n",
              "            + ' to learn more about interactive tables.';\n",
              "          element.innerHTML = '';\n",
              "          dataTable['output_type'] = 'display_data';\n",
              "          await google.colab.output.renderOutput(dataTable, element);\n",
              "          const docLink = document.createElement('div');\n",
              "          docLink.innerHTML = docLinkHtml;\n",
              "          element.appendChild(docLink);\n",
              "        }\n",
              "      </script>\n",
              "    </div>\n",
              "  </div>\n",
              "  "
            ]
          },
          "metadata": {},
          "execution_count": 8
        }
      ]
    },
    {
      "cell_type": "code",
      "source": [
        "fig, ax = plt.subplots(ncols=2, nrows=2, figsize=((12,10)))\n",
        "# plot gráfico bloxplot para verificar a distribuição da variável \"MonthlyCharges\"\n",
        "sns.boxplot(x='MonthlyCharges', data=df_clean, ax=ax[0,0])\n",
        "ax[0,0].set_title('\\nMonthlyCharges Boxplot\\n')\n",
        "\n",
        "# plot gráfico bloxplot para verificar a distribuição da variável \"MonthlyCharges\"\n",
        "sns.boxplot(x='TotalCharges', data=df_clean, ax=ax[0,1])\n",
        "ax[0,1].set_title('\\nTotalCharges Boxplot\\n')\n",
        "\n",
        "# plot gráfico bloxplot para verificar a distribuição das entradas de \"MonthlyCharges\"\n",
        "sns.boxplot(x='Churn', y='MonthlyCharges', data=df_clean, order=['Yes','No'], ax=ax[1,0])\n",
        "ax[1,0].set_title('\\nMonthlyCharges Boxplot por Churn\\n')\n",
        "\n",
        "# plot gráfico bloxplot para verificar a distribuição das entradas de \"TotalCharges\"\n",
        "sns.boxplot(x='Churn', y='TotalCharges', data=df_clean, order=['Yes','No'], ax=ax[1,1])\n",
        "ax[1,1].set_title('\\nTotalCharges Boxplot por Churn\\n')\n",
        "\n",
        "plt.tight_layout()"
      ],
      "metadata": {
        "colab": {
          "base_uri": "https://localhost:8080/",
          "height": 729
        },
        "id": "p_p2mxqTxA71",
        "outputId": "c766670a-f663-4fda-8fda-cddfe5aded15"
      },
      "execution_count": null,
      "outputs": [
        {
          "output_type": "display_data",
          "data": {
            "text/plain": [
              "<Figure size 864x720 with 4 Axes>"
            ],
            "image/png": "[encoded data removed]"
          },
          "metadata": {
            "needs_background": "light"
          }
        }
      ]
    },
    {
      "cell_type": "markdown",
      "source": [
        "### Verificar balanceamento\n",
        "\n",
        "Ao avaliar o balanceamento da variável alvo `Churn`, é possível observar a maior frequência de inputs `No`, com relação a `Yes`. Este comportamento será tratado antes da execução do modelo de machine learning."
      ],
      "metadata": {
        "id": "z5Ns1tGa--sC"
      }
    },
    {
      "cell_type": "code",
      "source": [
        "## ver balanceamento do dataset: churn x não churn\n",
        "# entradas com churn \"yes\"\n",
        "df_yes_churn = df_clean.loc[df['Churn'] == 'Yes']\n",
        "\n",
        "# entradas com churn \"no\"\n",
        "df_no_churn = df_clean.loc[df['Churn'] == 'No']\n",
        "\n",
        "# quantidade de valores \"churn\" e \"não-churn\"\n",
        "print('Churn Yes: {}'.format(df_yes_churn.shape[0]))\n",
        "print('Churn No: {}'.format(df_no_churn.shape[0]))\n",
        "\n",
        "# porcentagem de \"churns\" com relação ao dataset\n",
        "print('A porcentagem que corresponde a quantidade de churn no dataset é de: {:.2f}%\\n'\n",
        "      .format(df_yes_churn.shape[0]/df_clean.shape[0]*100))\n",
        "\n",
        "# plot gráfico de barras para comparação churn x não churn\n",
        "fig, ax = plt.subplots()\n",
        "sns.countplot('Churn', data=df_clean, order=['Yes', 'No'])\n",
        "plt.title('Churn x Não-Churn')\n",
        "plt.show()"
      ],
      "metadata": {
        "colab": {
          "base_uri": "https://localhost:8080/",
          "height": 419
        },
        "id": "B5H-nGLqnwlY",
        "outputId": "cadf89f5-dc4e-4531-cbc9-e7e7ce00721b"
      },
      "execution_count": null,
      "outputs": [
        {
          "output_type": "stream",
          "name": "stdout",
          "text": [
            "Churn Yes: 1869\n",
            "Churn No: 5174\n",
            "A porcentagem que corresponde a quantidade de churn no dataset é de: 26.54%\n",
            "\n"
          ]
        },
        {
          "output_type": "stream",
          "name": "stderr",
          "text": [
            "/usr/local/lib/python3.7/dist-packages/seaborn/_decorators.py:43: FutureWarning: Pass the following variable as a keyword arg: x. From version 0.12, the only valid positional argument will be `data`, and passing other arguments without an explicit keyword will result in an error or misinterpretation.\n",
            "  FutureWarning\n"
          ]
        },
        {
          "output_type": "display_data",
          "data": {
            "text/plain": [
              "<Figure size 432x288 with 1 Axes>"
            ],
            "image/png": "[encoded data removed]"
          },
          "metadata": {
            "needs_background": "light"
          }
        }
      ]
    },
    {
      "cell_type": "markdown",
      "source": [
        "### Histogramas\n",
        "\n",
        "Para finalizar a exploração dos dados, serão plotados histogramas para visualização do comportamento das variáveis numéricas em comparação ao vetor alvo, `Churn`."
      ],
      "metadata": {
        "id": "NDR0LGmu_628"
      }
    },
    {
      "cell_type": "markdown",
      "source": [
        "\n",
        "#### MothlyCharges x Churn"
      ],
      "metadata": {
        "id": "BlGOBXf2OElj"
      }
    },
    {
      "cell_type": "code",
      "source": [
        "from IPython.core.pylabtools import figsize\n",
        "# plot de histogramas das variáveis \"MonthlyCharges\" para Churn\n",
        "fig, ax = plt.subplots(ncols=1, nrows=2, figsize=(18,7))\n",
        "sns.histplot(data=df_clean,x=df_clean.MonthlyCharges[df['Churn'] =='Yes'], bins=30, ax=ax[0])\n",
        "ax[0].set_title('\\nChurn - MonthlyCharges\\n')\n",
        "\n",
        "# plot de histogramas das variáveis \"MonthlyCharges\" para Não-Churn\n",
        "sns.histplot(data=df_clean,x=df_clean.MonthlyCharges[df['Churn'] =='No'], bins=30, ax=ax[1])\n",
        "ax[1].set_title('\\nNão Churn - MonthlyCharges\\n')\n",
        "plt.tight_layout()"
      ],
      "metadata": {
        "colab": {
          "base_uri": "https://localhost:8080/",
          "height": 513
        },
        "id": "Y45PO1zy7gR4",
        "outputId": "cb7708ad-3789-43ce-b1f4-e3fea78fc52b"
      },
      "execution_count": null,
      "outputs": [
        {
          "output_type": "display_data",
          "data": {
            "text/plain": [
              "<Figure size 1296x504 with 2 Axes>"
            ],
            "image/png": "[encoded data removed]"
          },
          "metadata": {
            "needs_background": "light"
          }
        }
      ]
    },
    {
      "cell_type": "markdown",
      "source": [
        "#### TotalCharges x Churn"
      ],
      "metadata": {
        "id": "WAH9iUSyAlN_"
      }
    },
    {
      "cell_type": "code",
      "source": [
        "# plot de histogramas das variáveis \"TotalCharges\" para Churn\n",
        "fig, ax = plt.subplots(ncols=1, nrows=2, figsize=(18,7))\n",
        "sns.histplot(data=df_clean,x=df_clean.TotalCharges[df['Churn'] =='Yes'], bins=30, ax=ax[0])\n",
        "ax[0].set_title('\\nChurn - TotalCharges\\n')\n",
        "\n",
        "# plot de histogramas das variáveis \"TotalCharges\" para Não-Churn\"\n",
        "sns.histplot(data=df_clean,x=df_clean.TotalCharges[df['Churn'] =='No'], bins=30, ax=ax[1])\n",
        "ax[1].set_title('\\nNão Churn - TotalCharges\\n')\n",
        "plt.tight_layout()"
      ],
      "metadata": {
        "colab": {
          "base_uri": "https://localhost:8080/",
          "height": 513
        },
        "id": "FveXDlxKC2Qf",
        "outputId": "4f31b804-55b9-476e-cb6b-debf8c0c970e"
      },
      "execution_count": null,
      "outputs": [
        {
          "output_type": "display_data",
          "data": {
            "text/plain": [
              "<Figure size 1296x504 with 2 Axes>"
            ],
            "image/png": "[encoded data removed]"
          },
          "metadata": {
            "needs_background": "light"
          }
        }
      ]
    },
    {
      "cell_type": "markdown",
      "source": [
        "A partir do plot dos histogramas, é possível ter uma visão ampla e geral da distribuição das variáveis. Com base neles, é válido elencar três proposições:\n",
        "\n",
        "- Existe uma tendência de que a maior quantidade de clientes que realizam churn, tem uma mensalidade mais cara.\n",
        "\n",
        "- Para as mensalidades total, não apresentam padrões que indicam alguma tendência no comportamento dos clientes considerados churn.\n",
        "\n",
        "- A visualização auxilia em um melhor panorama da relação de cliente churn com o `TotalCharges` desvalidando a hipótese sugerida anteriormente, na análise estatística. Entretanto, pode-se observar uma maior concentração de `Churn` que representam valores mais baixos na variável `TotalCharges`, o que sugere a presença dos outliers encontrados na etapa precedente.\n"
      ],
      "metadata": {
        "id": "qcWSQgbf_Uf3"
      }
    },
    {
      "cell_type": "markdown",
      "source": [
        "#### Tenure x Churn \n",
        "\n",
        "Antes de aprensentar o histograma da variável `Tenure`, é importante mencionar seu significado. De acordo com a [plataforma da IBM](https://community.ibm.com/community/user/businessanalytics/blogs/steven-macko/2019/07/11/telco-customer-churn-1113\n",
        "), está variável representa o total de meses que o cliente é assinante do serviço.\n",
        "\n",
        "Oara está variável, é interessante intensificar a análise e comparar `Tenure`x`Churn` com o tipo de contrato feito pelo cliente. Sendo assim, a partir dos plots executados, têm-se insights relevantes a respeito do comportamento dos usuários, como: \n",
        "\n",
        "- Os cliente que aderem o plano mensal, em sua maioria, tendem a virar churn nos primeiros meses. O que sugere a presença de \"curioso\", que adquirem a assinatura apenas para testar a funcionalidade do serviço prestado.\n",
        "\n",
        "- Para contratos anuais, observa-se um comportamento não padronizado, em que, observa-se picos maiores nos meses em que se encerram ciclos de um ano, como 12, 24, 36, 48 meses. O que sugere uma maior desistência em momentos de renovação de contrato.\n",
        "\n",
        "- Já para contratantes do plano de dois anos, há a tendência de serem clientes mais fieis e utilizarem o serviço da empresa de telecomunicações por mais tempo. A partir do gráfico, é possível observar que, o período onde está localizado o maior volume de clientes com contrato bi-anual e churn, é por volta dos 70 meses de utilização do serviços. Sendo que, 70 meses é o equivalente a cerca de 6 anos de utilização do serviço.\n",
        "\n",
        "Tendo em visto o que foi dito, foi possível elencar informações de grande relevância para o negócio. Com essas informações pode-se avaliar qual tipo de contrato é mais vantajoso para o negocio e, assim, pensar em estratégias para promover a assinatura de contratos de dois anos. Como também elaborar estratégia de downgrades ou upgrades a fim de fidelizar o cliente antes que se torne um churn."
      ],
      "metadata": {
        "id": "WWiW7F3gOrL5"
      }
    },
    {
      "cell_type": "code",
      "source": [
        "fig, ax = plt.subplots(nrows=1, ncols=1, figsize=(14,4))\n",
        "sns.histplot(data=df_clean[(df_clean['Churn'] =='Yes')], x=df_clean.tenure, bins=df_clean.tenure.nunique(), ax=ax)\n",
        "ax.set_title('Variação Tenure')\n",
        "plt.tight_layout()"
      ],
      "metadata": {
        "colab": {
          "base_uri": "https://localhost:8080/",
          "height": 297
        },
        "id": "BmUgZHVKBTFz",
        "outputId": "ff5f8ff4-e53b-4a41-da10-8c4e7b160069"
      },
      "execution_count": null,
      "outputs": [
        {
          "output_type": "display_data",
          "data": {
            "text/plain": [
              "<Figure size 1008x288 with 1 Axes>"
            ],
            "image/png": "[encoded data removed]"
          },
          "metadata": {
            "needs_background": "light"
          }
        }
      ]
    },
    {
      "cell_type": "code",
      "source": [
        "# filtro pra contratos: mensal, um ano e dois anos\n",
        "mensal_contrato = df_clean['Contract'] == df_clean['Contract'].unique()[0] # Month-to-month\n",
        "anual_contrato = df_clean['Contract'] == df_clean['Contract'].unique()[1] # One Year\n",
        "bianual_contrato = df_clean['Contract'] == df_clean['Contract'].unique()[2] # Two Year\n",
        "\n",
        "# plotar histogramas da distribuição das quantidades de mês por tipo de contrato do cliente\n",
        "fig, ax = plt.subplots(nrows=3, ncols=1, figsize=(12,10))\n",
        "sns.histplot(data=df_clean[(df_clean['Churn'] =='Yes') & (mensal_contrato)], x=df_clean.tenure[mensal_contrato], bins=70, ax=ax[0])\n",
        "ax[0].set_title('Contrato Mensal')\n",
        "\n",
        "sns.histplot(data=df_clean[(df_clean['Churn'] =='Yes') & (anual_contrato)], x=df_clean.tenure[anual_contrato], bins=70, ax=ax[1])\n",
        "ax[1].set_title('\\nContrato Anual')\n",
        "\n",
        "sns.histplot(data=df_clean[(df_clean['Churn'] =='Yes') & (bianual_contrato)], x=df_clean.tenure[bianual_contrato], bins=70, ax=ax[2])\n",
        "ax[2].set_title('\\nContrato Bi-Anual')\n",
        "\n",
        "plt.tight_layout()"
      ],
      "metadata": {
        "colab": {
          "base_uri": "https://localhost:8080/",
          "height": 729
        },
        "id": "JpDjmq_4PJ_M",
        "outputId": "e7e34646-5234-4786-813b-dab30ef0e7c6"
      },
      "execution_count": null,
      "outputs": [
        {
          "output_type": "display_data",
          "data": {
            "text/plain": [
              "<Figure size 864x720 with 3 Axes>"
            ],
            "image/png": "[encoded data removed]"
          },
          "metadata": {
            "needs_background": "light"
          }
        }
      ]
    },
    {
      "cell_type": "markdown",
      "source": [
        "### Modelagem dos dados\n",
        "\n",
        "Após a exploração dos dados e elencar insights sobre o dataset, é necessário realizar a modelagem dos dados para dar adequa-los aos modelos de machine learning que serão implementados."
      ],
      "metadata": {
        "id": "eEECD_pcjdzK"
      }
    },
    {
      "cell_type": "markdown",
      "source": [
        "#### Tratando variáveis categóricas\n",
        "\n",
        " Conforme visto anteriormente, o dataset conta com variáveis categóricas, que necessitam de tratamentos. Tendo isso em vista e levando em consideração a quantidade de entradas únicas nas variáveis, serão realizadas as seguintes tratativas:\n",
        "\n",
        "- **Para colunas com três ou quatro entradas**: será utilizado o `dummies value`. Em que, a partir dos valores únicos encontrados em uma coluna, a função `get_dummies()`, cria novas colunas no dataset - referente aos diferentes valores. Os valores das novas colunas, assumem um valor de 0 ou 1 para indicar a ausência ou presença de um valor categórico correspondente à coluna criada em questão. \n",
        "\n",
        "- **Para colunas com duas entradas**: será aplicado o `label encoder`. Em que, transforma os dados categóricos em 0 e 1, para indicar ausência ou presença de uma informação."
      ],
      "metadata": {
        "id": "nkmJ1gYldy78"
      }
    },
    {
      "cell_type": "code",
      "source": [
        "# separar variáveis binárias\n",
        "binary_var = df_clean.nunique()[df_clean.nunique() == 2].keys().tolist()\n",
        "print('-> Variáveis binárias:\\n{}'.format(binary_var))\n",
        "\n",
        "# separar variáveis numéricas\n",
        "num_var = []\n",
        "for col in df_clean.select_dtypes(['int','float64']):\n",
        "  if col not in binary_var:\n",
        "    num_var += [col]\n",
        "print('\\n-> Variáveis numéricas:\\n{}'.format(num_var))\n",
        "\n",
        "# separar variáveis categóricas\n",
        "cat_var = []\n",
        "for col in df_clean.nunique()[df_clean.nunique() > 2].keys():\n",
        "  if col not in (binary_var and num_var):\n",
        "    cat_var += [col]\n",
        "print('\\n-> Variáveis categóricas:\\n{}'.format(cat_var))"
      ],
      "metadata": {
        "colab": {
          "base_uri": "https://localhost:8080/"
        },
        "id": "F33Tx3VlGJQG",
        "outputId": "b7b8e0eb-8c0c-438d-86d2-f7e73b673a5f"
      },
      "execution_count": null,
      "outputs": [
        {
          "output_type": "stream",
          "name": "stdout",
          "text": [
            "-> Variáveis binárias:\n",
            "['gender', 'SeniorCitizen', 'Partner', 'Dependents', 'PhoneService', 'PaperlessBilling', 'Churn']\n",
            "\n",
            "-> Variáveis numéricas:\n",
            "['tenure', 'MonthlyCharges', 'TotalCharges']\n",
            "\n",
            "-> Variáveis categóricas:\n",
            "['MultipleLines', 'InternetService', 'OnlineSecurity', 'OnlineBackup', 'DeviceProtection', 'TechSupport', 'StreamingTV', 'StreamingMovies', 'Contract', 'PaymentMethod']\n"
          ]
        }
      ]
    },
    {
      "cell_type": "code",
      "source": [
        "# criar copia do dataset para processar os dados\n",
        "df_proc = df_clean.copy()\n",
        "\n",
        "# aplicar label encoder em cada uma das colunas binárias\n",
        "from sklearn.preprocessing import LabelEncoder\n",
        "\n",
        "le = LabelEncoder()\n",
        "for i in binary_var:\n",
        "  df_proc[i] = le.fit_transform(df_proc[i])\n",
        "\n",
        "# criar dummies para as colunas não numéricas e com mais de duas entradas diferentes\n",
        "df_proc = pd.get_dummies(df_proc, columns=cat_var)"
      ],
      "metadata": {
        "id": "8RICQY2Gg3n6"
      },
      "execution_count": null,
      "outputs": []
    },
    {
      "cell_type": "markdown",
      "source": [
        "##### Heatmap"
      ],
      "metadata": {
        "id": "WqFH45PkMwqI"
      }
    },
    {
      "cell_type": "code",
      "source": [
        "# plotar mapa de correlação\n",
        "corr = df_proc.corr()\n",
        "\n",
        "fig, ax = plt.subplots(figsize=((6,9)))\n",
        "sns.heatmap(corr[['Churn']], linewidths=.1, annot=True, fmt=\".2f\")\n",
        "plt.tight_layout()"
      ],
      "metadata": {
        "colab": {
          "base_uri": "https://localhost:8080/",
          "height": 653
        },
        "id": "OXs_QlRFGD6Z",
        "outputId": "1811fb80-4df7-427e-a60d-aadebd4ca8bf"
      },
      "execution_count": null,
      "outputs": [
        {
          "output_type": "display_data",
          "data": {
            "text/plain": [
              "<Figure size 432x648 with 2 Axes>"
            ],
            "image/png": "[encoded data removed]"
          },
          "metadata": {
            "needs_background": "light"
          }
        }
      ]
    },
    {
      "cell_type": "markdown",
      "source": [
        "#### Separar em treino e teste"
      ],
      "metadata": {
        "id": "Jk8hs6m9qN5P"
      }
    },
    {
      "cell_type": "code",
      "source": [
        "# preparar a matriz de features e vetor alvo\n",
        "X = df_proc.drop('Churn',axis = 1)\n",
        "y = df_proc['Churn']\n",
        "\n",
        "# separar dataset em treino e teste\n",
        "from sklearn.model_selection import train_test_split\n",
        "X_train, X_test, y_train, y_test = train_test_split(X, y, test_size=0.20, stratify=y, shuffle=True)"
      ],
      "metadata": {
        "id": "DRFHYAcds_i6"
      },
      "execution_count": null,
      "outputs": []
    },
    {
      "cell_type": "markdown",
      "source": [
        "#### Cross-Validation\n",
        "\n",
        "A fim de implementar testar diferentes modelos de machine learning e verificar o desempenho de cada um no problema em questão, é criado um pipeline para implementação do cross-validation em cada instância. O pipeline é executado a partir de uma função, que irá padronizar e executar o modelo em questão.\n",
        "\n",
        "Para esta avaliação dos modelos, serão utilizados apenas dados de treino para alimentar a função criada. A métrica aplicada para avaliação será `recall`. \n",
        "\n",
        "A métrica foi definida, partindo da premissa de que, pelo fato de, se tratar da predição de churn na empresa. Isso implica que, se o modelo detecta um cliente que não iria cancelar, mas a predição indica que ele vai cancelar, este erro pode resultar em um e-mail ou promoção extra - a depender da estratégia adotada pela companhia -, sem que o cliente tome consciência do erro ou cause grandes impactos financeiros na empresa. Já um cliente que cancela sua assinatura, gera um maior prejuizo para a organização.\n",
        "\n",
        "Entretanto, esta foi a premissa adotada para este projeto hipotético, especificamente. Para um projeto real, deve-se debater internamente, qual será a melhor métrica a ser considerada, a depender de n variáveis que possam estar em jogo. Há um trade-off que necessita ser debatido no momento de implementação deste projeto.\n",
        "\n",
        "Tendo isso em vista, para o baseline inicial, é usado o `RandomForestClassifier()`, sem considerar nenhum hyperparâmetro. Para isso, os dados utilizados são os de treino."
      ],
      "metadata": {
        "id": "d-k0I5VaeCze"
      }
    },
    {
      "cell_type": "code",
      "source": [
        "# importar bibliotecas para função cross-validation\n",
        "from sklearn.preprocessing import StandardScaler\n",
        "from sklearn.pipeline import make_pipeline\n",
        "from sklearn.model_selection import cross_val_score\n",
        "\n",
        "# definir função para cross-validation dos modelos a serem instanciados.\n",
        "def val_model(X, y, clf, quite=False):\n",
        "    \"\"\"\n",
        "    Realiza cross-validation com os dados de treino para determinado modelo.\n",
        "\n",
        "    # Arguments\n",
        "        X: DataFrame, contém as variáveis independetes.\n",
        "        y: Series, vetor contendo a variável alvo.\n",
        "        clf: modelo classificador do Scikit-learn.\n",
        "        quite: bool, indicando se a função deve imprimir os resultados ou não.\n",
        "\n",
        "    # Returns\n",
        "        float, média dos scores da cross-validation.\n",
        "    \"\"\"\n",
        "    \n",
        "    X = np.array(X)\n",
        "    y = np.array(y)\n",
        "\n",
        "    pipeline = make_pipeline(StandardScaler(), clf)\n",
        "    scores = cross_val_score(pipeline, X, y, scoring='recall')\n",
        "\n",
        "    if quite == False:\n",
        "        print(\"Recall: {:.4f} (+/- {:.4f})\".format(scores.mean(), scores.std()))\n",
        "    \n",
        "    return scores.mean()"
      ],
      "metadata": {
        "id": "AuyCAVy3eCDX"
      },
      "execution_count": null,
      "outputs": []
    },
    {
      "cell_type": "code",
      "source": [
        " # importar biblioteca para baseline\n",
        "from sklearn.ensemble import RandomForestClassifier\n",
        "\n",
        "# instanciar baseline\n",
        "rf = RandomForestClassifier()\n",
        "score_baseline = val_model(X_train, y_train, rf)"
      ],
      "metadata": {
        "colab": {
          "base_uri": "https://localhost:8080/"
        },
        "id": "hol-tWvTgP7F",
        "outputId": "96d773ab-eac3-4f21-9bf2-9e55020baffc"
      },
      "execution_count": null,
      "outputs": [
        {
          "output_type": "stream",
          "name": "stdout",
          "text": [
            "Recall: 0.4890 (+/- 0.0404)\n"
          ]
        }
      ]
    },
    {
      "cell_type": "markdown",
      "source": [
        "#### Padronizar e balancear o dataset\n",
        "\n",
        "É importante ter um baseline para comparar se os ajustes, que serão feitos, melhoram ou pioram o desempenho do modelo. O balanceamento dos dados será feito e, em seguida, será preciso avaliar qual foi o impacto da alteração.\n",
        "\n",
        "A técnica escolhida para o balanceamento foi `UnderSampling()`, após alguns testes de desempenho das outras. Antes da execução da técnica de balanceamento, os dados serão padronizados.\n",
        "\n",
        "Lembrando que, é importante que a padronização e balanceamento seja feito apenas com os dados de treino. Os dados de teste devem permanecer intocáveis, para evitar o vazamento ou enviesamento dos dados."
      ],
      "metadata": {
        "id": "LYPNzynD2Qiy"
      }
    },
    {
      "cell_type": "code",
      "source": [
        "# padronizar o dados\n",
        "scaler = StandardScaler()\n",
        "X_train = scaler.fit_transform(X_train) \n",
        "\n",
        "\n",
        "# contar valores churn e não-churn no vetor alvo\n",
        "print('-> Valores de ´Churn´ e ´Não-Churn´ antes do balanceamento:\\n{}\\n'.format(y_train.value_counts()))\n",
        "\n",
        "# aplicar balanceamento: Over-Sampling\n",
        "from imblearn.under_sampling import RandomUnderSampler\n",
        "\n",
        "rus = RandomUnderSampler()\n",
        "X_train_rus, y_train_rus = rus.fit_resample(X_train, y_train)\n",
        "\n",
        "# contar valores após balanceamento\n",
        "print('-> Valores de ´Churn´ e ´Não-Churn´ após balanceamento:\\n{}'.format(y_train_rus.value_counts()))"
      ],
      "metadata": {
        "colab": {
          "base_uri": "https://localhost:8080/"
        },
        "id": "GasMsP9b06BU",
        "outputId": "a2fed31e-69ff-473f-e6c1-1c9d337576aa"
      },
      "execution_count": null,
      "outputs": [
        {
          "output_type": "stream",
          "name": "stdout",
          "text": [
            "-> Valores de ´Churn´ e ´Não-Churn´ antes do balanceamento:\n",
            "0    4139\n",
            "1    1495\n",
            "Name: Churn, dtype: int64\n",
            "\n",
            "-> Valores de ´Churn´ e ´Não-Churn´ após balanceamento:\n",
            "0    1495\n",
            "1    1495\n",
            "Name: Churn, dtype: int64\n"
          ]
        }
      ]
    },
    {
      "cell_type": "markdown",
      "metadata": {
        "id": "8UtXyZ6stlSM"
      },
      "source": [
        "## Construir modelo de Machine Learning\n",
        "\n",
        "O cross-validation será aplicado para vários modelos, a fim de identificar seus desempenhos e escolher o mais adequado para a solução desejada. Novamente, erão utilizados apenas dados de treino. Os modelos escolhidos são:\n",
        "\n",
        "- Logistic Regression\n",
        "\n",
        "- Decision Tree Classifier \n",
        "\n",
        "- XGBoost Classifier\n",
        "\n",
        "- Random Forest Classifier\n",
        "\n",
        "- SVC\n"
      ]
    },
    {
      "cell_type": "markdown",
      "source": [
        "### Instanciar, treinar e verificar desempenho dos modelos\n",
        "\n",
        "Ao avaliar o desempenho dos modelos, vê-se que a Logistic Regression tem desempenho similar ao XGBoost. No entanto, optou-se por seguir o projeto utilizando o XGBoost. \n",
        "\n",
        "A escolha foi feita pelo fato de que a instância do XGBoost apresenta uma maior margem de manipulação de seus hyperparametros. E, com isso, apresenta conjuntura para intensificar seus parâmetros e, consequentemente, melhorar seu desempenho. Inclusive, o tuning dos parametros será feita tomando como base um [artigo da Analytics Vidhya](https://www.analyticsvidhya.com/blog/2016/03/complete-guide-parameter-tuning-xgboost-with-codes-python/). "
      ],
      "metadata": {
        "id": "QV7vPURpHMd1"
      }
    },
    {
      "cell_type": "code",
      "metadata": {
        "id": "ThH0bud3XImv",
        "colab": {
          "base_uri": "https://localhost:8080/"
        },
        "outputId": "95c5c147-bbc9-4a0a-bae5-2054fbc4daae"
      },
      "source": [
        "# importar biblioteca dos modelos a serem instanciados\n",
        "from sklearn.linear_model import LogisticRegression\n",
        "from sklearn.tree import DecisionTreeClassifier\n",
        "from xgboost import XGBClassifier\n",
        "from sklearn.svm import SVC\n",
        "\n",
        "# instanciar modelos\n",
        "lr = LogisticRegression()\n",
        "dt = DecisionTreeClassifier() \n",
        "xgb = XGBClassifier()\n",
        "rfc = RandomForestClassifier()\n",
        "svc = SVC()\n",
        "\n",
        "# avaliar os modelos\n",
        "modelo = []\n",
        "recall = []\n",
        "for clf in (lr, dt, xgb, rfc, svc):\n",
        "  model_name = type(clf).__name__\n",
        "  print('\\n{}:'.format(model_name))\n",
        "  val_model(X_train_rus, y_train_rus, clf)\n",
        "  "
      ],
      "execution_count": null,
      "outputs": [
        {
          "output_type": "stream",
          "name": "stdout",
          "text": [
            "\n",
            "LogisticRegression:\n",
            "Recall: 0.7940 (+/- 0.0293)\n",
            "\n",
            "DecisionTreeClassifier:\n",
            "Recall: 0.6756 (+/- 0.0244)\n",
            "\n",
            "XGBClassifier:\n",
            "Recall: 0.8067 (+/- 0.0249)\n",
            "\n",
            "RandomForestClassifier:\n",
            "Recall: 0.7585 (+/- 0.0206)\n",
            "\n",
            "SVC:\n",
            "Recall: 0.7920 (+/- 0.0257)\n"
          ]
        }
      ]
    },
    {
      "cell_type": "markdown",
      "source": [
        "### Tuning de parâmetros"
      ],
      "metadata": {
        "id": "PzxpSyvkL93_"
      }
    },
    {
      "cell_type": "code",
      "source": [
        "# XGBoost com GridSearch\n",
        "xgb = XGBClassifier(learning_rate = 0.1)\n",
        "\n",
        "parameters = {\n",
        "    'n_estimators':range(0,100,5)\n",
        "}\n",
        "\n",
        "from sklearn.model_selection import StratifiedKFold\n",
        "from sklearn.model_selection import GridSearchCV\n",
        "\n",
        "kfold = StratifiedKFold(n_splits=10, shuffle=True)\n",
        "clf = GridSearchCV(xgb, parameters, scoring=\"recall\", n_jobs=-1, cv=kfold)\n",
        "clf.fit(X_train_rus, y_train_rus)\n",
        "\n",
        "# verificar a acurácia com os melhores parâmetros.\n",
        "print('O melhor recall é {:.4f} utilizando o parâmetro {}.'.format(clf.best_score_,clf.best_params_))"
      ],
      "metadata": {
        "colab": {
          "base_uri": "https://localhost:8080/"
        },
        "id": "cynAl-VuLO79",
        "outputId": "d2db4083-4404-4254-e185-de2b303e2083"
      },
      "execution_count": null,
      "outputs": [
        {
          "output_type": "stream",
          "name": "stdout",
          "text": [
            "O melhor recall é 0.8180 utilizando o parâmetro {'n_estimators': 10}.\n"
          ]
        }
      ]
    },
    {
      "cell_type": "code",
      "source": [
        "# XGBoost com GridSearch\n",
        "xgb = XGBClassifier(learning_rate = 0.1, n_estimators=10)\n",
        "\n",
        "parameters = {\n",
        "    'max_depth': range(0,10,1),\n",
        "    'min_child_weight': range(0,5,1)\n",
        "}\n",
        "\n",
        "kfold = StratifiedKFold(n_splits=10, shuffle=True)\n",
        "clf = GridSearchCV(xgb, parameters, scoring=\"recall\", n_jobs=-1, cv=kfold)\n",
        "clf.fit(X_train_rus, y_train_rus)\n",
        "\n",
        "# verificar a acurácia com os melhores parâmetros.\n",
        "print('O melhor recall é {:.4f} utilizando o parâmetro {}.'.format(clf.best_score_,clf.best_params_))"
      ],
      "metadata": {
        "colab": {
          "base_uri": "https://localhost:8080/"
        },
        "id": "EoQ2SsEnZEfN",
        "outputId": "0d0ce228-1691-4e50-d310-0f25224a6e94"
      },
      "execution_count": null,
      "outputs": [
        {
          "output_type": "stream",
          "name": "stdout",
          "text": [
            "O melhor recall é 0.8569 utilizando o parâmetro {'max_depth': 1, 'min_child_weight': 0}.\n"
          ]
        }
      ]
    },
    {
      "cell_type": "code",
      "source": [
        "# XGBoost com GridSearch\n",
        "xgb = XGBClassifier(learning_rate = 0.1, n_estimators=10, max_depth=1, min_child_weight=0)\n",
        "\n",
        "parameters = {\n",
        "    'gamma':[i/100.0 for i in range(0,1)]\n",
        "}\n",
        "\n",
        "kfold = StratifiedKFold(n_splits=10, shuffle=True)\n",
        "clf = GridSearchCV(xgb, parameters, scoring=\"recall\", n_jobs=-1, cv=kfold)\n",
        "clf.fit(X_train_rus, y_train_rus)\n",
        "\n",
        "# verificar a acurácia com os melhores parâmetros.\n",
        "print('O melhor recall é {:.4f} utilizando o parâmetro {}.'.format(clf.best_score_,clf.best_params_))"
      ],
      "metadata": {
        "colab": {
          "base_uri": "https://localhost:8080/"
        },
        "id": "uAWOwbDPp5vw",
        "outputId": "59c08db8-b13d-43d8-ef56-a949b7edd428"
      },
      "execution_count": null,
      "outputs": [
        {
          "output_type": "stream",
          "name": "stdout",
          "text": [
            "O melhor recall é 0.8588 utilizando o parâmetro {'gamma': 0.0}.\n"
          ]
        }
      ]
    },
    {
      "cell_type": "code",
      "source": [
        "# XGBoost com GridSearch\n",
        "xgb = XGBClassifier(n_estimators=10, max_depth=1, min_child_weight=0, gamma=0)\n",
        "\n",
        "parameters = {\n",
        "    'learning_rate':[1e-09, 1e-08, 1e-07, 1e-06, 1e-05, 1e-04, 1e-03, 0.01]\n",
        "}\n",
        "\n",
        "kfold = StratifiedKFold(n_splits=10, shuffle=True)\n",
        "clf = GridSearchCV(xgb, parameters, scoring=\"recall\", n_jobs=-1, cv=kfold)\n",
        "clf.fit(X_train_rus, y_train_rus)\n",
        "\n",
        "# verificar a acurácia com os melhores parâmetros.\n",
        "print('O melhor recall é {:.4f} utilizando o parâmetro {}.'.format(clf.best_score_,clf.best_params_))"
      ],
      "metadata": {
        "id": "v-9UzsM4ZN_H",
        "colab": {
          "base_uri": "https://localhost:8080/"
        },
        "outputId": "31c2b692-547b-45c5-c3d7-0aed8008a262"
      },
      "execution_count": null,
      "outputs": [
        {
          "output_type": "stream",
          "name": "stdout",
          "text": [
            "O melhor recall é 0.8842 utilizando o parâmetro {'learning_rate': 1e-07}.\n"
          ]
        }
      ]
    },
    {
      "cell_type": "markdown",
      "source": [
        "### Avaliar desempenho do modelo\n",
        "\n",
        "Por fim, após definir o modelo de machine learning e fazer o tuning dos parâmetros, é preciso avaliar o desempenho do modelo final. A performance é realizada ao comparar as predições com a porção de teste, separada anteriormente no dataset.\n",
        "\n",
        "Para esta análise final, o modelo será treinado usando os dados de treino e, a partir desse treinamento, as previsões serão feitas com os dados de teste - que serão manipulados apenas neste momento e seguiam intactos até então, desde a separação do dataset.\n",
        "\n",
        "Conforme a premissa assumida, a partir da avaliação do modelo, é possível verificar um `recall` de 89% para clientes que serão considerados churn. Isso quer dizer que, é possivel detectar o churn dos clientes da empresa com eficácia: 89%. Ou seja, 89% dos clientes do conjunto de teste que são churn (ou seja, igual a `churn = 1`), foram identificados corretamente como churn, pelo modelo executado.\n",
        "\n"
      ],
      "metadata": {
        "id": "VnKBqdd3HnUH"
      }
    },
    {
      "cell_type": "code",
      "source": [
        "# modelo final\n",
        "xgb = XGBClassifier(n_estimators=10, max_depth=1, min_child_weight=0, gamma=0, learning_rate=1e-07)\n",
        "xgb.fit(X_train_rus, y_train_rus)\n",
        "\n",
        "# fazer predição do X_val\n",
        "X_test = scaler.transform(X_test)\n",
        "y_pred = xgb.predict(X_test)\n",
        "\n",
        "from sklearn.metrics import roc_auc_score, accuracy_score, f1_score, confusion_matrix, classification_report\n",
        "from scikitplot.metrics import plot_confusion_matrix, plot_roc\n",
        "\n",
        "# classification report\n",
        "print(classification_report(y_test, y_pred))\n",
        "\n",
        "# verificar área sob a curva\n",
        "print(\"AUC: {:.4f}\\n\".format(roc_auc_score(y_test, y_pred)))\n",
        "\n",
        "# plotar matriz de confusão\n",
        "plot_confusion_matrix(y_test, y_pred, normalize=True)\n",
        "plt.show()"
      ],
      "metadata": {
        "colab": {
          "base_uri": "https://localhost:8080/",
          "height": 486
        },
        "id": "uAaUIBA6M-Bv",
        "outputId": "c312f149-8767-46ec-aa98-b99eb6932a1c"
      },
      "execution_count": null,
      "outputs": [
        {
          "output_type": "stream",
          "name": "stdout",
          "text": [
            "              precision    recall  f1-score   support\n",
            "\n",
            "           0       0.94      0.58      0.72      1035\n",
            "           1       0.44      0.89      0.59       374\n",
            "\n",
            "    accuracy                           0.67      1409\n",
            "   macro avg       0.69      0.74      0.65      1409\n",
            "weighted avg       0.80      0.67      0.68      1409\n",
            "\n",
            "AUC: 0.7375\n",
            "\n"
          ]
        },
        {
          "output_type": "display_data",
          "data": {
            "text/plain": [
              "<Figure size 432x288 with 2 Axes>"
            ],
            "image/png": "[encoded data removed]"
          },
          "metadata": {
            "needs_background": "light"
          }
        }
      ]
    },
    {
      "cell_type": "markdown",
      "source": [
        "## Conclusão\n",
        "\n",
        "Por fim, o churn é um indicador que deve ser avaliado constantemente, principalmente à luz das crescentes pressões competitivas do setor de telecomunicações. No entanto, muitas empresas ainda não tomaram as medidas necessárias para construir uma base analítica sólida para estabelecer um mandato verdadeiramente validado para a tomada de decisões estratégicas para redução de Churn. Contudo, as empresas que se movem rapidamente estarão melhor posicionadas para o sucesso no futuro.\n",
        "\n",
        "Neste projeto foram avaliados dados reais de uma empresa de telecomunicações e é plenamente possível que seja replicado em outras empresas reais com contam com modelo de assinaturas. Com o intuito de redução do churn, os insights obtidos podem ser grande valia para tomada de decisões como um novo roadmap do produto, desenvolver novas ferramentas, investir em customer experience, rever preços e agregar mais valor.\n",
        "\n",
        "Toda via, vale ressaltar a possibilidade de melhoria ao modelo apresentado. Para isso, pode-se implementar outros recursos e ferramentas de análise como:  feature selection, identificar variaveis que mais influenciam a variável alvo e trabalhar com feature engineering são artifícios que podem ajudar a melhorar o desempenho do modelo."
      ],
      "metadata": {
        "id": "ElqJEz0JHv8-"
      }
    }
  ]
}